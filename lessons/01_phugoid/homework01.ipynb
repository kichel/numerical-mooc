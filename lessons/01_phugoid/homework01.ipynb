{
 "metadata": {
  "name": "",
  "signature": "sha256:903f992a8c47e9d600f08ea8e1941c9ae17b5249b0ad7e363a17d356a6b177d9"
 },
 "nbformat": 3,
 "nbformat_minor": 0,
 "worksheets": [
  {
   "cells": [
    {
     "cell_type": "heading",
     "level": 1,
     "metadata": {},
     "source": [
      "Homework 1"
     ]
    },
    {
     "cell_type": "code",
     "collapsed": false,
     "input": [
      "import numpy as np\n",
      "from math import sin, cos, log, ceil, pi\n",
      "import matplotlib.pyplot as plt\n",
      "%matplotlib inline\n",
      "import sys"
     ],
     "language": "python",
     "metadata": {},
     "outputs": [],
     "prompt_number": 5
    },
    {
     "cell_type": "code",
     "collapsed": false,
     "input": [
      "x = np.linspace(4,23,43);\n",
      "x[0:6]"
     ],
     "language": "python",
     "metadata": {},
     "outputs": [
      {
       "metadata": {},
       "output_type": "pyout",
       "prompt_number": 6,
       "text": [
        "array([ 4.        ,  4.45238095,  4.9047619 ,  5.35714286,  5.80952381,\n",
        "        6.26190476])"
       ]
      }
     ],
     "prompt_number": 6
    },
    {
     "cell_type": "code",
     "collapsed": false,
     "input": [
      "ones_array = np.ones( (5,17) );\n",
      "zeros_array = np.zeros( ones_array.shape );\n",
      "ones_array.shape\n"
     ],
     "language": "python",
     "metadata": {},
     "outputs": [
      {
       "metadata": {},
       "output_type": "pyout",
       "prompt_number": 7,
       "text": [
        "(5, 17)"
       ]
      }
     ],
     "prompt_number": 7
    },
    {
     "cell_type": "code",
     "collapsed": false,
     "input": [
      "p = 7;\n",
      "r = np.array([11.2, 4.7, 6.6]);\n",
      "a = p/r\n",
      "b = np.sin(a)\n",
      "c = np.power(b,3)\n",
      "print a,b,c"
     ],
     "language": "python",
     "metadata": {},
     "outputs": [
      {
       "output_type": "stream",
       "stream": "stdout",
       "text": [
        "[ 0.625       1.4893617   1.06060606] [ 0.58509727  0.99668603  0.87265161] [ 0.20030151  0.99009101  0.66454238]\n"
       ]
      }
     ],
     "prompt_number": 8
    },
    {
     "cell_type": "code",
     "collapsed": false,
     "input": [
      "r = 2\n",
      "f3 = 1.600\n",
      "f2 = 1.500\n",
      "f1 = 1.475\n",
      "conv_ord = ( log(f3 - f2) - log(f2 - f1) ) / log(r)\n",
      "print conv_ord"
     ],
     "language": "python",
     "metadata": {},
     "outputs": [
      {
       "output_type": "stream",
       "stream": "stdout",
       "text": [
        "2.0\n"
       ]
      }
     ],
     "prompt_number": 9
    },
    {
     "cell_type": "heading",
     "level": 2,
     "metadata": {},
     "source": [
      "Rocket flight"
     ]
    },
    {
     "cell_type": "code",
     "collapsed": false,
     "input": [
      "#Model Parameters\n",
      "m_start = 50 # [kg]  : weight of the rocket shell\n",
      "g = 9.81     #[m/s^2] : grav const\n",
      "rho = 1.091  #[kg / m^3] : average air density\n",
      "r = 0.5  # [meters] : a rocket parameter\n",
      "A = pi*r**2  # [m^2] : max cross section of the rocket\n",
      "v_e = 325   #[m/s] : exhaustive speed\n",
      "C_D = 0.15  # drag coefficient\n",
      "m_p0 = 100  #[kg] : mass of rocket propellant at time t = 0\n",
      "\n",
      "#initialization\n",
      "t_start = 0.0\n",
      "h_start = 0.0\n",
      "v_start = 0.0\n",
      "\n"
     ],
     "language": "python",
     "metadata": {},
     "outputs": [],
     "prompt_number": 10
    },
    {
     "cell_type": "code",
     "collapsed": false,
     "input": [
      "# mass of the propellant at time t = 3.2 [s]\n",
      "mp = m_p0 - 3.2*20\n",
      "print mp"
     ],
     "language": "python",
     "metadata": {},
     "outputs": [
      {
       "output_type": "stream",
       "stream": "stdout",
       "text": [
        "36.0\n"
       ]
      }
     ],
     "prompt_number": 11
    },
    {
     "cell_type": "code",
     "collapsed": false,
     "input": [
      "def mp(t):\n",
      "    \"\"\"Returns the propellant mass at time t.\n",
      "    \n",
      "    Parameters\n",
      "    ----------\n",
      "    t : float\n",
      "        is the time.\n",
      "        \n",
      "    Returns\n",
      "    -------\n",
      "    mp(t) : float\n",
      "        float describing the mass of the propellant at time t.\n",
      "    \"\"\"\n",
      "    if t < 5:    \n",
      "        return m_p0 - t*20 \n",
      "    else:\n",
      "        return m_p0 - 5*20"
     ],
     "language": "python",
     "metadata": {},
     "outputs": [],
     "prompt_number": 12
    },
    {
     "cell_type": "code",
     "collapsed": false,
     "input": [
      "mp(3.2)"
     ],
     "language": "python",
     "metadata": {},
     "outputs": [
      {
       "metadata": {},
       "output_type": "pyout",
       "prompt_number": 13,
       "text": [
        "36.0"
       ]
      }
     ],
     "prompt_number": 13
    },
    {
     "cell_type": "code",
     "collapsed": false,
     "input": [
      "def f(u):\n",
      "    \"\"\"Returns the right-hand side of the phugoid system of equations.\n",
      "    \n",
      "    Parameters\n",
      "    ----------\n",
      "    u : 3x1 array of float\n",
      "        array containing the solution at time t i.e. u = (t,h,v).\n",
      "        \n",
      "    Returns\n",
      "    -------\n",
      "    du/dt : array of float\n",
      "        array containing the RHS given u.\n",
      "    \"\"\"\n",
      "    \n",
      "    t = u[0]\n",
      "    h = u[1]\n",
      "    v = u[2]\n",
      "    \n",
      "    if t < 5:  \n",
      "        return np.array([1,\n",
      "                         v,\n",
      "                         -g + v_e*( 20/(m_start + mp(t)) ) - 0.5*rho*v*abs(v)*A*C_D/(m_start + mp(t)) ])\n",
      "    else:\n",
      "        return np.array([1,\n",
      "                         v,\n",
      "                         -g - 0.5*rho*v*abs(v)*A*C_D/(m_start + mp(t)) ])\n",
      "    "
     ],
     "language": "python",
     "metadata": {},
     "outputs": [],
     "prompt_number": 14
    },
    {
     "cell_type": "code",
     "collapsed": false,
     "input": [
      "def euler_step(u,f,dt):\n",
      "    \"\"\"Returns the solution at the next time-step using Euler's method.\n",
      "    \n",
      "    Parameters\n",
      "    ----------\n",
      "    u : array of float\n",
      "        solution at the previous time-step.\n",
      "    f : function\n",
      "        function to compute the right hand-side of the system of equation.\n",
      "    dt : float\n",
      "        time-increment.\n",
      "    \n",
      "    Returns\n",
      "    -------\n",
      "    u_n_plus_1 : array of float\n",
      "        approximate solution at the next time step.\n",
      "    \"\"\"\n",
      "    \n",
      "    return u + dt * f(u)    "
     ],
     "language": "python",
     "metadata": {},
     "outputs": [],
     "prompt_number": 15
    },
    {
     "cell_type": "code",
     "collapsed": false,
     "input": [
      "T = 10.0                    #final Time\n",
      "dt = 0.1                    #time increment\n",
      "N = int(T/dt) + 1           #number of time-steps\n",
      "t = np.linspace(0.0, T, N)  #time discretization\n",
      "\n",
      "# initialize the array containing the solution for each time-step\n",
      "u = np.empty((N, 3))\n",
      "u[0] = np.array([t_start, h_start, v_start])     # fill 1st element with initial values\n",
      "\n",
      "# time loop - Euler method\n",
      "for n in range(N-1):\n",
      "    \n",
      "    u[n+1] = euler_step(u[n], f, dt)"
     ],
     "language": "python",
     "metadata": {},
     "outputs": [],
     "prompt_number": 16
    },
    {
     "cell_type": "code",
     "collapsed": false,
     "input": [
      "# get the rocket's position and velocity with respect to the time\n",
      "t = u[:,0]\n",
      "h = u[:,1]\n",
      "v = u[:,2]\n",
      "\n"
     ],
     "language": "python",
     "metadata": {},
     "outputs": [],
     "prompt_number": 17
    },
    {
     "cell_type": "code",
     "collapsed": false,
     "input": [
      "# visualization of the path\n",
      "plt.figure(figsize=(8,6))\n",
      "plt.grid(True)\n",
      "plt.xlabel(r't', fontsize=18)\n",
      "plt.ylabel(r'v', fontsize=18)\n",
      "plt.title('Rocket velocity, flight time = %.2f' % T, fontsize=18)\n",
      "plt.plot(t,v, 'k-', lw=2);"
     ],
     "language": "python",
     "metadata": {},
     "outputs": [
      {
       "metadata": {},
       "output_type": "display_data",
       "png": "[encoded data removed]",
       "text": [
        "<matplotlib.figure.Figure at 0x7f36222a5e50>"
       ]
      }
     ],
     "prompt_number": 18
    },
    {
     "cell_type": "code",
     "collapsed": false,
     "input": [],
     "language": "python",
     "metadata": {},
     "outputs": [],
     "prompt_number": 18
    }
   ],
   "metadata": {}
  }
 ]
}